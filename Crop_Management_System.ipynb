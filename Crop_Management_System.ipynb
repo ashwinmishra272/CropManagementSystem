{
  "nbformat": 4,
  "nbformat_minor": 0,
  "metadata": {
    "colab": {
      "name": "Crop_Management_System.ipynb",
      "provenance": [],
      "collapsed_sections": [],
      "include_colab_link": true
    },
    "kernelspec": {
      "name": "python3",
      "display_name": "Python 3"
    }
  },
  "cells": [
    {
      "cell_type": "markdown",
      "metadata": {
        "id": "view-in-github",
        "colab_type": "text"
      },
      "source": [
        "<a href=\"https://colab.research.google.com/github/sanchman21/CropManagementSystem/blob/master/Crop_Management_System.ipynb\" target=\"_parent\"><img src=\"https://colab.research.google.com/assets/colab-badge.svg\" alt=\"Open In Colab\"/></a>"
      ]
    },
    {
      "cell_type": "code",
      "metadata": {
        "id": "V6_61r1irXtX",
        "colab_type": "code",
        "colab": {}
      },
      "source": [
        "# Project by Sanchit Goel[19BCS095], Gourab Chakraborty[19BEC014], Saurav Bhagat[19BCS103] IIIT Dharwad.\n",
        "\n",
        "import pandas as pd\n",
        "import re\n",
        "import matplotlib.pyplot as plt\n",
        "import sys\n",
        "from getpass import getpass"
      ],
      "execution_count": 0,
      "outputs": []
    },
    {
      "cell_type": "code",
      "metadata": {
        "id": "k5QtDM5Wsw9Q",
        "colab_type": "code",
        "colab": {}
      },
      "source": [
        "# ADMIN USERNAME: admin\n",
        "# ADMIN PASSWORD: password\n",
        "\n",
        "class User:\n",
        "    def __init__(self, fname, lname):\n",
        "      self.firstname = fname\n",
        "      self.lastname = lname\n",
        "\n",
        "    def getUsername(self):\n",
        "      #print(self.firstname, self.lastname)\n",
        "      print(\"Enter Username:\")\n",
        "      self.username=input()\n",
        "    def getPassword(self):\n",
        "      self.password = getpass(\"Enter Password:\")\n",
        "      User.password=self.password\n",
        "      User.username=self.username\n",
        "      print(\"****************User Registered******************\")"
      ],
      "execution_count": 0,
      "outputs": []
    },
    {
      "cell_type": "code",
      "metadata": {
        "id": "9jGzcIsqw6fe",
        "colab_type": "code",
        "outputId": "73b644b8-2765-48ef-8c0e-8261ebc9e581",
        "colab": {
          "base_uri": "https://localhost:8080/",
          "height": 140
        }
      },
      "source": [
        "response = int(input(\"ADMIN(1) |  USER(2)?\"))\n",
        "\n",
        "if(response is 2):\n",
        "  fname=input(\"Enter First Name:\")\n",
        "  lname=input(\"Enter Last Name:\")\n",
        "  x = User(fname, lname)\n",
        "  x.getUsername()\n",
        "  x.getPassword()"
      ],
      "execution_count": 4,
      "outputs": [
        {
          "output_type": "stream",
          "text": [
            "ADMIN(1) |  USER(2)?2\n",
            "Enter First Name:san\n",
            "Enter Last Name:c\n",
            "Enter Username:\n",
            "hi\n",
            "Enter Password:··········\n",
            "****************User Registered******************\n"
          ],
          "name": "stdout"
        }
      ]
    },
    {
      "cell_type": "markdown",
      "metadata": {
        "id": "xyXnfS35v5IJ",
        "colab_type": "text"
      },
      "source": [
        ""
      ]
    },
    {
      "cell_type": "code",
      "metadata": {
        "id": "VKYvK_YYCyJd",
        "colab_type": "code",
        "colab": {}
      },
      "source": [
        "def bar(f):\n",
        "    plt.figure(figsize = (10,5))\n",
        "    plt.bar(f['Crop_Year'],f['Production'])\n",
        "                 #set label\n",
        "    plt.title('Crop Production Details', fontweight = 'bold')\n",
        "    plt.xticks([1998, 2000, 2002, 2004, 2006, 2008])\n",
        "    plt.xlabel('Crop Year')\n",
        "    plt.ylabel('Production')\n",
        "    plt.show()\n",
        "\n",
        "def box(f):\n",
        "    plt.figure(figsize = (10,5))\n",
        "    years = []\n",
        "    for i in range(1997, 2009):\n",
        "        years.append(f.loc[f.Crop_Year == i]['Production'])\n",
        "    labels = ['1997', '1998', '1999', '2000', '2001', '2002', '2003', '2004', '2005', '2006', '2007', '2008']\n",
        "    plt.boxplot(years, labels = labels)\n",
        "    plt.title('Crop Production Details', fontweight = 'bold')\n",
        "    plt.show()\n",
        "\n",
        "def line(f):\n",
        "    plt.figure(figsize = (10,5))\n",
        "    plt.plot(f['Crop_Year'],f['Production'])\n",
        "          #set label\n",
        "    plt.ylabel('Production')\n",
        "    plt.xlabel('Crop_Year')\n",
        "    plt.xticks([1998, 2000, 2002, 2004, 2006,2008])\n",
        "    plt.title('Crop Production Details', fontweight = 'bold')\n",
        "    plt.show()"
      ],
      "execution_count": 0,
      "outputs": []
    },
    {
      "cell_type": "code",
      "metadata": {
        "id": "71_2gW9T542x",
        "colab_type": "code",
        "colab": {}
      },
      "source": [
        "if(response is 1): # the default username for admin is admin and password is password.\n",
        "  uname=input(\"Enter Username:\\n\")\n",
        "  pword= getpass(\"Enter Password:\\n\")\n",
        "  if((uname == \"admin\" ) and (pword == \"password\")):\n",
        "    print(\"Login Successful!\")\n",
        "  else:\n",
        "    print(\"Login Unsuccessful\")    \n",
        "    \n",
        "if(response is 2):\n",
        "  uname = input(\"Enter Username:\\n\")\n",
        "  pword = getpass(\"Enter Password:\\n\")\n",
        "  if((uname == x.username ) and (pword == x.password)):\n",
        "    print(\"Login Successful!\")\n",
        "  else:\n",
        "      print(\"Login Unsuccessful\")\n",
        "      exit()"
      ],
      "execution_count": 0,
      "outputs": []
    },
    {
      "cell_type": "code",
      "metadata": {
        "id": "0n72KQUEEPRM",
        "colab_type": "code",
        "colab": {}
      },
      "source": [
        "def UserCode(ans):\n",
        "      if(ans=='Y'):\n",
        "          print (\"The graph of productivity vs crop year\")\n",
        "          types = ['Line', 'Bar', 'Box and Whiskers']\n",
        "          num = 1,2,3\n",
        "          for i, j in zip(num, types):\n",
        "            print(\"Press \" + str(i) + \" for \" + j + \" graph.\" )\n",
        "          no = int(input())\n",
        "          diftypes = ['Arecanut', 'Other Kharif', 'Rice', 'Banana', 'Cashewnut', 'Coconut']\n",
        "          nos = 1,2,3,4,5,6\n",
        "          for i,j in zip(nos, diftypes):\n",
        "              print(\"For \" + j + \" enter \" + str(i))\n",
        "          n=int(input())\n",
        "          if(n==1):\n",
        "           #set directory\n",
        "              f=pd.read_excel(r'file1.xlsx','Sheet2')\n",
        "          #set plot  \n",
        "              if no == 1:\n",
        "                  line(f)\n",
        "              elif no == 2:\n",
        "                  bar(f)\n",
        "              elif no == 3:\n",
        "                  box(f)\n",
        "          elif(n==2):\n",
        "               #set directory\n",
        "              f=pd.read_excel(r'file1.xlsx','Sheet3')\n",
        "                #set plot \n",
        "              if no == 1:\n",
        "                  line(f)\n",
        "              elif no == 2:\n",
        "                  bar(f)\n",
        "              elif no == 3:\n",
        "                  box(f) \n",
        "          elif(n==3):\n",
        "                #set directory\n",
        "              f=pd.read_excel(r'file1.xlsx','Sheet4')\n",
        "                  #set plot \n",
        "              if no == 1:\n",
        "                  line(f)\n",
        "              elif no == 2:\n",
        "                  bar(f)\n",
        "              elif no == 3:\n",
        "                  box(f)   \n",
        "          elif(n==4):\n",
        "             #set directory\n",
        "              f=pd.read_excel(r'file1.xlsx','Sheet5')\n",
        "                  #set plot  \n",
        "              if no == 1:\n",
        "                  line(f)\n",
        "              elif no == 2:\n",
        "                  bar(f)\n",
        "              elif no == 3:\n",
        "                  box(f)\n",
        "          elif(n==5):\n",
        "              #set directory\n",
        "              f=pd.read_excel(r'file1.xlsx','Sheet6')\n",
        "               #set plot   \n",
        "              if no == 1:\n",
        "                  line(f)\n",
        "              elif no == 2:\n",
        "                  bar(f)\n",
        "              elif no == 3:\n",
        "                  box(f) \n",
        "          elif(n==6):\n",
        "                    #set directory\n",
        "              f=pd.read_excel(r'file1.xlsx','Sheet7')\n",
        "                  #set plot  \n",
        "              if no == 1:\n",
        "                  line(f)\n",
        "              elif no == 2:\n",
        "                  bar(f)\n",
        "              elif no == 3:\n",
        "                  box(f)\n",
        "      path1 = \"CropsDataFile.xlsx\"\n",
        "      cropdata = pd.read_excel(path1)\n",
        "      columns_titles = [\"Crop\",\"Crop_Year\",\"State_Name\",\"District_Name\",\"Production\",\"Area\"]\n",
        "      cropdata=cropdata.reindex(columns=columns_titles)\n",
        "      pd.set_option('display.max_rows', None)\n",
        "      pd.set_option('display.max_columns', None)\n",
        "      pd.set_option('display.width', None)\n",
        "      pd.set_option('display.max_colwidth', -1)\n",
        "      cropdata.to_excel(\"Newformatdata.xlsx\")\n",
        "      newdata = pd.read_excel('Newformatdata.xlsx')\n",
        "      print(newdata)\n",
        "      cropdata.reset_index(drop=True)\n",
        "      print(cropdata.loc[cropdata['Crop'] == diftypes[n-1]])     "
      ],
      "execution_count": 0,
      "outputs": []
    },
    {
      "cell_type": "code",
      "metadata": {
        "id": "1hCRdh4AAtlu",
        "colab_type": "code",
        "colab": {
          "base_uri": "https://localhost:8080/",
          "height": 1000
        },
        "outputId": "e1269ff3-e4c6-41b1-8c31-f0a26e8a1b79"
      },
      "source": [
        "#class Productivity_Details:\n",
        "if(response == 2): # and (Login.AdminAccess == False)):\n",
        "    ans=input(\"DO you want to see the graph (Y/N):\")\n",
        "    UserCode(ans)   "
      ],
      "execution_count": 10,
      "outputs": [
        {
          "output_type": "stream",
          "text": [
            "DO you want to see the graph (Y/N):Y\n",
            "The graph of productivity vs crop year\n",
            "Press 1 for Line graph.\n",
            "Press 2 for Bar graph.\n",
            "Press 3 for Box and Whiskers graph.\n",
            "2\n",
            "For Arecanut enter 1\n",
            "For Other Kharif enter 2\n",
            "For Rice enter 3\n",
            "For Banana enter 4\n",
            "For Cashewnut enter 5\n",
            "For Coconut enter 6\n",
            "3\n"
          ],
          "name": "stdout"
        },
        {
          "output_type": "display_data",
          "data": {
            "image/png": "[encoded data removed]",
            "text/plain": [
              "<Figure size 720x360 with 1 Axes>"
            ]
          },
          "metadata": {
            "tags": [],
            "needs_background": "light"
          }
        },
        {
          "output_type": "stream",
          "text": [
            "     Crop  Crop_Year                   State_Name             District_Name  \\\n",
            "2    Rice  2000       Andaman and Nicobar Islands  NICOBARS                   \n",
            "12   Rice  2001       Andaman and Nicobar Islands  NICOBARS                   \n",
            "18   Rice  2002       Andaman and Nicobar Islands  NICOBARS                   \n",
            "27   Rice  2003       Andaman and Nicobar Islands  NICOBARS                   \n",
            "36   Rice  2004       Andaman and Nicobar Islands  NICOBARS                   \n",
            "45   Rice  2005       Andaman and Nicobar Islands  NICOBARS                   \n",
            "64   Rice  2010       Andaman and Nicobar Islands  NICOBARS                   \n",
            "81   Rice  2000       Andaman and Nicobar Islands  NORTH AND MIDDLE ANDAMAN   \n",
            "92   Rice  2001       Andaman and Nicobar Islands  NORTH AND MIDDLE ANDAMAN   \n",
            "98   Rice  2006       Andaman and Nicobar Islands  NORTH AND MIDDLE ANDAMAN   \n",
            "111  Rice  2010       Andaman and Nicobar Islands  NORTH AND MIDDLE ANDAMAN   \n",
            "129  Rice  2002       Andaman and Nicobar Islands  SOUTH ANDAMANS             \n",
            "139  Rice  2003       Andaman and Nicobar Islands  SOUTH ANDAMANS             \n",
            "149  Rice  2004       Andaman and Nicobar Islands  SOUTH ANDAMANS             \n",
            "159  Rice  2005       Andaman and Nicobar Islands  SOUTH ANDAMANS             \n",
            "172  Rice  2006       Andaman and Nicobar Islands  SOUTH ANDAMANS             \n",
            "185  Rice  2010       Andaman and Nicobar Islands  SOUTH ANDAMANS             \n",
            "216  Rice  1997       Andhra Pradesh               ANANTAPUR                  \n",
            "228  Rice  1997       Andhra Pradesh               ANANTAPUR                  \n",
            "244  Rice  1998       Andhra Pradesh               ANANTAPUR                  \n",
            "253  Rice  1998       Andhra Pradesh               ANANTAPUR                  \n",
            "268  Rice  1999       Andhra Pradesh               ANANTAPUR                  \n",
            "281  Rice  1999       Andhra Pradesh               ANANTAPUR                  \n",
            "\n",
            "     Production      Area  \n",
            "2    321.00      102.00    \n",
            "12   300.00      83.00     \n",
            "18   510.84      189.20    \n",
            "27   90.17       52.00     \n",
            "36   72.57       52.94     \n",
            "45   12.06       2.09      \n",
            "64   10.00       3.50      \n",
            "81   31863.00    10779.00  \n",
            "92   27033.00    9718.00   \n",
            "98   18995.62    6854.30   \n",
            "111  20118.00    6791.00   \n",
            "129  31600.82    10695.80  \n",
            "139  30760.70    10509.37  \n",
            "149  29119.66    10681.98  \n",
            "159  25870.98    8683.38   \n",
            "172  2539.64     921.87    \n",
            "185  3788.00     1595.50   \n",
            "216  75400.00    35600.00  \n",
            "228  37300.00    18000.00  \n",
            "244  96800.00    38300.00  \n",
            "253  63900.00    26600.00  \n",
            "268  105082.00   37991.00  \n",
            "281  45669.00    20258.00  \n"
          ],
          "name": "stdout"
        },
        {
          "output_type": "stream",
          "text": [
            "/usr/local/lib/python3.6/dist-packages/ipykernel_launcher.py:81: FutureWarning: Passing a negative integer is deprecated in version 1.0 and will not be supported in future version. Instead, use None to not limit the column width.\n"
          ],
          "name": "stderr"
        }
      ]
    },
    {
      "cell_type": "code",
      "metadata": {
        "id": "90ocAlCNCQCW",
        "colab_type": "code",
        "colab": {}
      },
      "source": [
        "path1 = \"CropsDataFile.xlsx\"\n",
        "cropdata = pd.read_excel(path1)\n",
        "if(response == 1):\n",
        "      answer = input(\"Do you want to insert more details?\")\n",
        "      if (answer == \"yes\"):\n",
        "        statename = input(\"Enter the statename: \")\n",
        "        districtname = input(\"Enter the district name: \")\n",
        "        cropyear = input(\"Enter the crop year: \")\n",
        "        season = input(\"Enter the season: \")\n",
        "        crop = input(\"Enter the crop: \")\n",
        "        area = input(\"Enter the area: \")\n",
        "        production = input(\"Enter the production amount: \")\n",
        "        new_row = {'State_Name': statename, 'District_Name': districtname, 'Crop_Year': cropyear, 'Season': season, 'Crop': crop, 'Area': area, 'Production': production}\n",
        "        cropdata = cropdata.append(new_row, ignore_index=True)\n",
        "        print(\"This is the new data frame after appending the details that you entered:\")\n",
        "        print(cropdata)      \n",
        "      ans=input(\"DO you want to see the graph (Y/N):\")\n",
        "      UserCode(ans)"
      ],
      "execution_count": 0,
      "outputs": []
    }
  ]
}